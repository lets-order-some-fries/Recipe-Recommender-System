{
 "cells": [
  {
   "cell_type": "code",
   "execution_count": 1,
   "id": "b37fc357",
   "metadata": {},
   "outputs": [],
   "source": [
    "# ! pip install nltk\n",
    "# ! pip install sent2vec\n",
    "# ! pip install update pydantic\n",
    "# ! pip install update spacy\n",
    "# ! pip install sentence-transformers==2.5.0"
   ]
  },
  {
   "cell_type": "markdown",
   "id": "b4682aa2",
   "metadata": {},
   "source": [
    "### Importing libraries"
   ]
  },
  {
   "cell_type": "code",
   "execution_count": 2,
   "id": "c7f618e1",
   "metadata": {
    "ExecuteTime": {
     "end_time": "2024-03-19T23:22:02.919699Z",
     "start_time": "2024-03-19T23:21:51.651198Z"
    }
   },
   "outputs": [
    {
     "name": "stderr",
     "output_type": "stream",
     "text": [
      "/Users/ambujupadhyay/anaconda3/lib/python3.11/site-packages/pandas/core/arrays/masked.py:60: UserWarning: Pandas requires version '1.3.6' or newer of 'bottleneck' (version '1.3.5' currently installed).\n",
      "  from pandas.core import (\n"
     ]
    }
   ],
   "source": [
    "import re\n",
    "import nltk\n",
    "import json\n",
    "import warnings\n",
    "import numpy as np\n",
    "import pandas as pd\n",
    "from collections import Counter\n",
    "from nltk.corpus import stopwords\n",
    "from nltk.stem import WordNetLemmatizer\n",
    "from sent2vec.vectorizer import Vectorizer\n",
    "from sentence_transformers import SentenceTransformer\n",
    "from sklearn.metrics.pairwise import cosine_similarity\n",
    "from sklearn.feature_extraction.text import CountVectorizer, TfidfVectorizer"
   ]
  },
  {
   "cell_type": "code",
   "execution_count": 3,
   "id": "37c28a41",
   "metadata": {
    "ExecuteTime": {
     "end_time": "2024-03-19T23:22:03.045780Z",
     "start_time": "2024-03-19T23:22:02.920915Z"
    }
   },
   "outputs": [
    {
     "name": "stderr",
     "output_type": "stream",
     "text": [
      "[nltk_data] Downloading package omw-1.4 to\n",
      "[nltk_data]     /Users/ambujupadhyay/nltk_data...\n",
      "[nltk_data]   Package omw-1.4 is already up-to-date!\n"
     ]
    },
    {
     "data": {
      "text/plain": [
       "True"
      ]
     },
     "execution_count": 3,
     "metadata": {},
     "output_type": "execute_result"
    }
   ],
   "source": [
    "warnings.filterwarnings(\"ignore\")\n",
    "nltk.download('omw-1.4')"
   ]
  },
  {
   "cell_type": "code",
   "execution_count": 4,
   "id": "2c01e6ba",
   "metadata": {
    "ExecuteTime": {
     "end_time": "2024-03-19T23:22:03.051324Z",
     "start_time": "2024-03-19T23:22:03.046597Z"
    }
   },
   "outputs": [],
   "source": [
    "#List of common kitchen words to remove\n",
    "#keep it updated\n",
    "common_kitchen_words = [\n",
    "    'pound', 'gallon', 'teaspoon', 'tablespoon', 'cup','ounce', 'oz', 'gram', 'kg', 'kilogram', \n",
    "    'liter', 'milliliter', 'ml', 'pinch', 'slice', 'bunch', 'piece', 'pack', 'jar', 'can', 'bottle', \n",
    "    'quart', 'pint', 'bag', 'box', 'tsp', 'tbsp', 'g', 'l', 'diced', 'chopped', 'sliced', 'crushed', \n",
    "    'minced', 'peeled', 'grated', 'ground', 'water']\n",
    "\n",
    "# Data Cleaning and Text Normalization\n",
    "def clean_text(text):\n",
    "    # Remove HTML tags\n",
    "    text = re.sub(r'<.*?>', '', text)\n",
    "    # Convert to lowercase\n",
    "    text = text.lower()\n",
    "    # Remove punctuation and numbers\n",
    "    text = re.sub(r'[^a-zA-Z\\s]', '', text, re.I|re.A)\n",
    "    # Tokenization\n",
    "    tokens = text.split()\n",
    "    # Remove stopwords\n",
    "    nltk.download('stopwords', quiet=True)\n",
    "    stop_words = stopwords.words('english')\n",
    "    tokens = [token for token in tokens if token not in stop_words]\n",
    "    # Lemmatization\n",
    "    nltk.download('wordnet', quiet=True)\n",
    "    lemmatizer = WordNetLemmatizer()\n",
    "    tokens = [lemmatizer.lemmatize(token) for token in tokens]\n",
    "    # Remove common kitchen words\n",
    "    tokens = [token for token in tokens if token not in common_kitchen_words]\n",
    "    # Join tokens back to string\n",
    "    text = ' '.join(tokens)\n",
    "    return text\n",
    "\n",
    "\n",
    "def extract_cooking_time(text):\n",
    "    # Text to Lower\n",
    "    text = text.lower()\n",
    "    \n",
    "    # First, try to capture combined patterns like \"1 hour and 30 minutes\" or \"1 and a half hours\"\n",
    "    combined_pattern = re.compile(r'(\\d+)\\s*hour(?:s)?\\s*and\\s*(\\d+)\\s*minute(?:s)?', re.IGNORECASE)\n",
    "    half_hour_pattern = re.compile(r'(\\d+)\\s*and\\s*a\\s*half\\s*hours?', re.IGNORECASE)\n",
    "    \n",
    "    # Capture ranges and specific times\n",
    "    range_pattern = re.compile(r'(\\d+)(?:\\s*to\\s*(\\d+))?\\s*(minutes?|hours?|mins?|hrs?)', re.IGNORECASE)\n",
    "    \n",
    "    total_minutes = 0\n",
    "    \n",
    "    # Check for combined patterns\n",
    "    combined_matches = combined_pattern.findall(text)\n",
    "    for hours, minutes in combined_matches:\n",
    "        total_minutes += int(hours) * 60 + int(minutes)\n",
    "\n",
    "    half_hour_matches = half_hour_pattern.findall(text)\n",
    "    for hours in half_hour_matches:\n",
    "        total_minutes += int(hours[0]) * 60 + 30  # Adding 30 minutes for the \"half\" part\n",
    "\n",
    "    if total_minutes > 0:\n",
    "        return total_minutes\n",
    "\n",
    "    # Fallback to range pattern if no combined pattern matched\n",
    "    matches = range_pattern.findall(text)\n",
    "    for start, end, unit in matches:\n",
    "        start = int(start)\n",
    "        end = int(end) if end else start\n",
    "        if 'hour' in unit:\n",
    "            start, end = start * 60, end * 60\n",
    "        if start == end:\n",
    "            total_minutes += start\n",
    "        else:\n",
    "            # Average the range\n",
    "            total_minutes += (start + end) / 2\n",
    "\n",
    "    return round(total_minutes) if total_minutes > 0 else np.nan\n",
    "\n",
    "def get_combined_text(title, ingredients, instructions):\n",
    "    return 'Title : {} \\n Ingredients : {} \\n Instructions : {}'.format(title, ingredients, instructions)"
   ]
  },
  {
   "cell_type": "markdown",
   "id": "997a19e8",
   "metadata": {},
   "source": [
    "### Reading data"
   ]
  },
  {
   "cell_type": "code",
   "execution_count": 5,
   "id": "78dc717d",
   "metadata": {
    "ExecuteTime": {
     "end_time": "2024-03-19T23:22:03.054694Z",
     "start_time": "2024-03-19T23:22:03.052560Z"
    }
   },
   "outputs": [],
   "source": [
    "f_ar = open('recipes_raw/recipes_raw_nosource_ar.json')\n",
    "f_epi = open('recipes_raw/recipes_raw_nosource_epi.json')\n",
    "f_fn = open('recipes_raw/recipes_raw_nosource_fn.json')"
   ]
  },
  {
   "cell_type": "code",
   "execution_count": 6,
   "id": "802b13c5",
   "metadata": {
    "ExecuteTime": {
     "end_time": "2024-03-19T23:22:06.603552Z",
     "start_time": "2024-03-19T23:22:05.938130Z"
    }
   },
   "outputs": [],
   "source": [
    "recipes_ar = json.load(f_ar)\n",
    "recipes_epi = json.load(f_epi)\n",
    "recipes_fn = json.load(f_fn)"
   ]
  },
  {
   "cell_type": "code",
   "execution_count": 7,
   "id": "7f768c87",
   "metadata": {
    "ExecuteTime": {
     "end_time": "2024-03-19T23:22:06.744235Z",
     "start_time": "2024-03-19T23:22:06.604702Z"
    }
   },
   "outputs": [],
   "source": [
    "# Convert Dictionary to DataFrame\n",
    "recipes_ar_df = pd.DataFrame.from_dict(recipes_ar, orient='index').reset_index()\n",
    "recipes_epi_df = pd.DataFrame.from_dict(recipes_epi, orient='index').reset_index()\n",
    "recipes_fn_df = pd.DataFrame.from_dict(recipes_fn, orient='index').reset_index()\n",
    "\n",
    "# Concatenate Recipes\n",
    "recipes =  pd.concat([recipes_ar_df,recipes_epi_df, recipes_fn_df])\n",
    "recipes = recipes.reset_index()\n",
    "recipes = recipes.drop(columns=['picture_link', 'level_0'])"
   ]
  },
  {
   "cell_type": "code",
   "execution_count": 8,
   "id": "3279ccd5",
   "metadata": {
    "ExecuteTime": {
     "end_time": "2024-03-19T23:22:06.899110Z",
     "start_time": "2024-03-19T23:22:06.891453Z"
    }
   },
   "outputs": [
    {
     "data": {
      "text/html": [
       "<div>\n",
       "<style scoped>\n",
       "    .dataframe tbody tr th:only-of-type {\n",
       "        vertical-align: middle;\n",
       "    }\n",
       "\n",
       "    .dataframe tbody tr th {\n",
       "        vertical-align: top;\n",
       "    }\n",
       "\n",
       "    .dataframe thead th {\n",
       "        text-align: right;\n",
       "    }\n",
       "</style>\n",
       "<table border=\"1\" class=\"dataframe\">\n",
       "  <thead>\n",
       "    <tr style=\"text-align: right;\">\n",
       "      <th></th>\n",
       "      <th>index</th>\n",
       "      <th>title</th>\n",
       "      <th>ingredients</th>\n",
       "      <th>instructions</th>\n",
       "    </tr>\n",
       "  </thead>\n",
       "  <tbody>\n",
       "    <tr>\n",
       "      <th>0</th>\n",
       "      <td>rmK12Uau.ntP510KeImX506H6Mr6jTu</td>\n",
       "      <td>Slow Cooker Chicken and Dumplings</td>\n",
       "      <td>[4 skinless, boneless chicken breast halves AD...</td>\n",
       "      <td>Place the chicken, butter, soup, and onion in ...</td>\n",
       "    </tr>\n",
       "    <tr>\n",
       "      <th>1</th>\n",
       "      <td>5ZpZE8hSVdPk2ZXo1mZTyoPWJRSCPSm</td>\n",
       "      <td>Awesome Slow Cooker Pot Roast</td>\n",
       "      <td>[2 (10.75 ounce) cans condensed cream of mushr...</td>\n",
       "      <td>In a slow cooker, mix cream of mushroom soup, ...</td>\n",
       "    </tr>\n",
       "    <tr>\n",
       "      <th>2</th>\n",
       "      <td>clyYQv.CplpwJtjNaFGhx0VilNYqRxu</td>\n",
       "      <td>Brown Sugar Meatloaf</td>\n",
       "      <td>[1/2 cup packed brown sugar ADVERTISEMENT, 1/2...</td>\n",
       "      <td>Preheat oven to 350 degrees F (175 degrees C)....</td>\n",
       "    </tr>\n",
       "    <tr>\n",
       "      <th>3</th>\n",
       "      <td>BmqFAmCrDHiKNwX.IQzb0U/v0mLlxFu</td>\n",
       "      <td>Best Chocolate Chip Cookies</td>\n",
       "      <td>[1 cup butter, softened ADVERTISEMENT, 1 cup w...</td>\n",
       "      <td>Preheat oven to 350 degrees F (175 degrees C)....</td>\n",
       "    </tr>\n",
       "    <tr>\n",
       "      <th>4</th>\n",
       "      <td>N.jCksRjB4MFwbgPFQU8Kg.yF.XCtOi</td>\n",
       "      <td>Homemade Mac and Cheese Casserole</td>\n",
       "      <td>[8 ounces whole wheat rotini pasta ADVERTISEME...</td>\n",
       "      <td>Preheat oven to 350 degrees F. Line a 2-quart ...</td>\n",
       "    </tr>\n",
       "  </tbody>\n",
       "</table>\n",
       "</div>"
      ],
      "text/plain": [
       "                             index                              title  \\\n",
       "0  rmK12Uau.ntP510KeImX506H6Mr6jTu  Slow Cooker Chicken and Dumplings   \n",
       "1  5ZpZE8hSVdPk2ZXo1mZTyoPWJRSCPSm      Awesome Slow Cooker Pot Roast   \n",
       "2  clyYQv.CplpwJtjNaFGhx0VilNYqRxu               Brown Sugar Meatloaf   \n",
       "3  BmqFAmCrDHiKNwX.IQzb0U/v0mLlxFu        Best Chocolate Chip Cookies   \n",
       "4  N.jCksRjB4MFwbgPFQU8Kg.yF.XCtOi  Homemade Mac and Cheese Casserole   \n",
       "\n",
       "                                         ingredients  \\\n",
       "0  [4 skinless, boneless chicken breast halves AD...   \n",
       "1  [2 (10.75 ounce) cans condensed cream of mushr...   \n",
       "2  [1/2 cup packed brown sugar ADVERTISEMENT, 1/2...   \n",
       "3  [1 cup butter, softened ADVERTISEMENT, 1 cup w...   \n",
       "4  [8 ounces whole wheat rotini pasta ADVERTISEME...   \n",
       "\n",
       "                                        instructions  \n",
       "0  Place the chicken, butter, soup, and onion in ...  \n",
       "1  In a slow cooker, mix cream of mushroom soup, ...  \n",
       "2  Preheat oven to 350 degrees F (175 degrees C)....  \n",
       "3  Preheat oven to 350 degrees F (175 degrees C)....  \n",
       "4  Preheat oven to 350 degrees F. Line a 2-quart ...  "
      ]
     },
     "execution_count": 8,
     "metadata": {},
     "output_type": "execute_result"
    }
   ],
   "source": [
    "recipes.head(5)"
   ]
  },
  {
   "cell_type": "markdown",
   "id": "eab3d4fc",
   "metadata": {},
   "source": [
    "### Data cleaning"
   ]
  },
  {
   "cell_type": "code",
   "execution_count": 9,
   "id": "f6677c5c",
   "metadata": {
    "ExecuteTime": {
     "end_time": "2024-03-19T23:22:10.436157Z",
     "start_time": "2024-03-19T23:22:10.105768Z"
    }
   },
   "outputs": [],
   "source": [
    "#Removing the word 'ADVERTISEMENT' from the dataset\n",
    "recipes['ingredients'] = recipes['ingredients'].apply(lambda x: [i.replace(' ADVERTISEMENT','') for i in x])\n",
    "recipes['ingredients'] = recipes['ingredients'].apply(lambda x: [i for i in x if i not in ['ADVERTISEMENT']])"
   ]
  },
  {
   "cell_type": "code",
   "execution_count": 10,
   "id": "d52fb2a1",
   "metadata": {
    "ExecuteTime": {
     "end_time": "2024-03-19T23:22:10.604852Z",
     "start_time": "2024-03-19T23:22:10.531790Z"
    }
   },
   "outputs": [
    {
     "data": {
      "text/plain": [
       "index           0\n",
       "title           0\n",
       "ingredients     0\n",
       "instructions    0\n",
       "dtype: int64"
      ]
     },
     "execution_count": 10,
     "metadata": {},
     "output_type": "execute_result"
    }
   ],
   "source": [
    "# Removing null values\n",
    "recipes.dropna(inplace=True)\n",
    "recipes.isnull().sum()"
   ]
  },
  {
   "cell_type": "code",
   "execution_count": 11,
   "id": "ba5dfe97",
   "metadata": {
    "ExecuteTime": {
     "end_time": "2024-03-19T23:23:10.946307Z",
     "start_time": "2024-03-19T23:22:10.937171Z"
    }
   },
   "outputs": [],
   "source": [
    "# Create String of Ingredients\n",
    "recipes['ingredients_str'] = recipes['ingredients'].apply(lambda x: '; '.join(x))\n",
    "\n",
    "# Clean Ingredients and Instructions\n",
    "recipes['cleaned_ingredients'] = recipes['ingredients_str'].apply(clean_text)\n",
    "recipes['cleaned_instructions'] = recipes['instructions'].apply(clean_text)\n",
    "recipes['cleaned_title'] = recipes['title'].apply(clean_text)"
   ]
  },
  {
   "cell_type": "code",
   "execution_count": 23,
   "id": "a630ee37",
   "metadata": {
    "ExecuteTime": {
     "end_time": "2024-03-19T23:40:15.002339Z",
     "start_time": "2024-03-19T23:40:14.987141Z"
    }
   },
   "outputs": [
    {
     "data": {
      "text/html": [
       "<div>\n",
       "<style scoped>\n",
       "    .dataframe tbody tr th:only-of-type {\n",
       "        vertical-align: middle;\n",
       "    }\n",
       "\n",
       "    .dataframe tbody tr th {\n",
       "        vertical-align: top;\n",
       "    }\n",
       "\n",
       "    .dataframe thead th {\n",
       "        text-align: right;\n",
       "    }\n",
       "</style>\n",
       "<table border=\"1\" class=\"dataframe\">\n",
       "  <thead>\n",
       "    <tr style=\"text-align: right;\">\n",
       "      <th></th>\n",
       "      <th>index</th>\n",
       "      <th>title</th>\n",
       "      <th>ingredients</th>\n",
       "      <th>instructions</th>\n",
       "      <th>ingredients_str</th>\n",
       "      <th>cleaned_ingredients</th>\n",
       "      <th>cleaned_instructions</th>\n",
       "      <th>cleaned_title</th>\n",
       "      <th>ingredients_instructions</th>\n",
       "      <th>title_ingredients</th>\n",
       "      <th>cooking_time_mins</th>\n",
       "      <th>combined_text</th>\n",
       "    </tr>\n",
       "  </thead>\n",
       "  <tbody>\n",
       "    <tr>\n",
       "      <th>0</th>\n",
       "      <td>rmK12Uau.ntP510KeImX506H6Mr6jTu</td>\n",
       "      <td>Slow Cooker Chicken and Dumplings</td>\n",
       "      <td>[4 skinless, boneless chicken breast halves, 2...</td>\n",
       "      <td>Place the chicken, butter, soup, and onion in ...</td>\n",
       "      <td>4 skinless, boneless chicken breast halves; 2 ...</td>\n",
       "      <td>skinless boneless chicken breast half butter c...</td>\n",
       "      <td>place chicken butter soup onion slow cooker fi...</td>\n",
       "      <td>slow cooker chicken dumpling</td>\n",
       "      <td>skinless boneless chicken breast half butter c...</td>\n",
       "      <td>skinless soup cooker chicken dumpling package ...</td>\n",
       "      <td>360.0</td>\n",
       "      <td>Title : Slow Cooker Chicken and Dumplings \\n I...</td>\n",
       "    </tr>\n",
       "    <tr>\n",
       "      <th>1</th>\n",
       "      <td>5ZpZE8hSVdPk2ZXo1mZTyoPWJRSCPSm</td>\n",
       "      <td>Awesome Slow Cooker Pot Roast</td>\n",
       "      <td>[2 (10.75 ounce) cans condensed cream of mushr...</td>\n",
       "      <td>In a slow cooker, mix cream of mushroom soup, ...</td>\n",
       "      <td>2 (10.75 ounce) cans condensed cream of mushro...</td>\n",
       "      <td>condensed cream mushroom soup package dry onio...</td>\n",
       "      <td>slow cooker mix cream mushroom soup dry onion ...</td>\n",
       "      <td>awesome slow cooker pot roast</td>\n",
       "      <td>condensed cream mushroom soup package dry onio...</td>\n",
       "      <td>awesome condensed soup cooker pot slow package...</td>\n",
       "      <td>720.0</td>\n",
       "      <td>Title : Awesome Slow Cooker Pot Roast \\n Ingre...</td>\n",
       "    </tr>\n",
       "    <tr>\n",
       "      <th>2</th>\n",
       "      <td>clyYQv.CplpwJtjNaFGhx0VilNYqRxu</td>\n",
       "      <td>Brown Sugar Meatloaf</td>\n",
       "      <td>[1/2 cup packed brown sugar, 1/2 cup ketchup, ...</td>\n",
       "      <td>Preheat oven to 350 degrees F (175 degrees C)....</td>\n",
       "      <td>1/2 cup packed brown sugar; 1/2 cup ketchup; 1...</td>\n",
       "      <td>packed brown sugar ketchup lean beef milk egg ...</td>\n",
       "      <td>preheat oven degree f degree c lightly grease ...</td>\n",
       "      <td>brown sugar meatloaf</td>\n",
       "      <td>packed brown sugar ketchup lean beef milk egg ...</td>\n",
       "      <td>meatloaf brown salt pepper milk ginger packed ...</td>\n",
       "      <td>60.0</td>\n",
       "      <td>Title : Brown Sugar Meatloaf \\n Ingredients : ...</td>\n",
       "    </tr>\n",
       "  </tbody>\n",
       "</table>\n",
       "</div>"
      ],
      "text/plain": [
       "                             index                              title  \\\n",
       "0  rmK12Uau.ntP510KeImX506H6Mr6jTu  Slow Cooker Chicken and Dumplings   \n",
       "1  5ZpZE8hSVdPk2ZXo1mZTyoPWJRSCPSm      Awesome Slow Cooker Pot Roast   \n",
       "2  clyYQv.CplpwJtjNaFGhx0VilNYqRxu               Brown Sugar Meatloaf   \n",
       "\n",
       "                                         ingredients  \\\n",
       "0  [4 skinless, boneless chicken breast halves, 2...   \n",
       "1  [2 (10.75 ounce) cans condensed cream of mushr...   \n",
       "2  [1/2 cup packed brown sugar, 1/2 cup ketchup, ...   \n",
       "\n",
       "                                        instructions  \\\n",
       "0  Place the chicken, butter, soup, and onion in ...   \n",
       "1  In a slow cooker, mix cream of mushroom soup, ...   \n",
       "2  Preheat oven to 350 degrees F (175 degrees C)....   \n",
       "\n",
       "                                     ingredients_str  \\\n",
       "0  4 skinless, boneless chicken breast halves; 2 ...   \n",
       "1  2 (10.75 ounce) cans condensed cream of mushro...   \n",
       "2  1/2 cup packed brown sugar; 1/2 cup ketchup; 1...   \n",
       "\n",
       "                                 cleaned_ingredients  \\\n",
       "0  skinless boneless chicken breast half butter c...   \n",
       "1  condensed cream mushroom soup package dry onio...   \n",
       "2  packed brown sugar ketchup lean beef milk egg ...   \n",
       "\n",
       "                                cleaned_instructions  \\\n",
       "0  place chicken butter soup onion slow cooker fi...   \n",
       "1  slow cooker mix cream mushroom soup dry onion ...   \n",
       "2  preheat oven degree f degree c lightly grease ...   \n",
       "\n",
       "                   cleaned_title  \\\n",
       "0   slow cooker chicken dumpling   \n",
       "1  awesome slow cooker pot roast   \n",
       "2           brown sugar meatloaf   \n",
       "\n",
       "                            ingredients_instructions  \\\n",
       "0  skinless boneless chicken breast half butter c...   \n",
       "1  condensed cream mushroom soup package dry onio...   \n",
       "2  packed brown sugar ketchup lean beef milk egg ...   \n",
       "\n",
       "                                   title_ingredients  cooking_time_mins  \\\n",
       "0  skinless soup cooker chicken dumpling package ...              360.0   \n",
       "1  awesome condensed soup cooker pot slow package...              720.0   \n",
       "2  meatloaf brown salt pepper milk ginger packed ...               60.0   \n",
       "\n",
       "                                       combined_text  \n",
       "0  Title : Slow Cooker Chicken and Dumplings \\n I...  \n",
       "1  Title : Awesome Slow Cooker Pot Roast \\n Ingre...  \n",
       "2  Title : Brown Sugar Meatloaf \\n Ingredients : ...  "
      ]
     },
     "execution_count": 23,
     "metadata": {},
     "output_type": "execute_result"
    }
   ],
   "source": [
    "recipes.head(3)"
   ]
  },
  {
   "cell_type": "code",
   "execution_count": 12,
   "id": "8fb803d4",
   "metadata": {
    "ExecuteTime": {
     "end_time": "2024-03-19T23:23:11.376568Z",
     "start_time": "2024-03-19T23:23:10.947349Z"
    }
   },
   "outputs": [],
   "source": [
    "# Combining ingredients and instructions for a comprehensive feature set\n",
    "recipes['ingredients_instructions'] = recipes['cleaned_ingredients'] + \" \" + recipes['cleaned_instructions']\n",
    "recipes['title_ingredients'] = recipes['cleaned_title'] + \" \" + recipes['cleaned_ingredients']\n",
    "recipes['title_ingredients'] = recipes['title_ingredients'].apply(lambda x: ' '.join(list(set(x.split(' ')))))"
   ]
  },
  {
   "cell_type": "code",
   "execution_count": 13,
   "id": "52544708",
   "metadata": {
    "ExecuteTime": {
     "end_time": "2024-03-19T23:23:15.377810Z",
     "start_time": "2024-03-19T23:23:11.377416Z"
    }
   },
   "outputs": [],
   "source": [
    "# Extract Cooking Time\n",
    "recipes['cooking_time_mins'] = recipes['instructions'].apply(lambda x: extract_cooking_time(x))"
   ]
  },
  {
   "cell_type": "code",
   "execution_count": 14,
   "id": "8bec212e",
   "metadata": {
    "ExecuteTime": {
     "end_time": "2024-03-19T23:23:15.706466Z",
     "start_time": "2024-03-19T23:23:15.379147Z"
    }
   },
   "outputs": [],
   "source": [
    "# Get Combined Text for Sentence Embeddings\n",
    "recipes['combined_text'] = recipes[['title', 'ingredients_str', 'instructions']].apply(lambda x: get_combined_text(*x), axis=1)"
   ]
  },
  {
   "cell_type": "code",
   "execution_count": 36,
   "id": "8879ae70",
   "metadata": {
    "ExecuteTime": {
     "end_time": "2024-03-20T00:17:03.557933Z",
     "start_time": "2024-03-20T00:17:03.553871Z"
    }
   },
   "outputs": [
    {
     "data": {
      "text/plain": [
       "'Title : Brown Sugar Meatloaf \\n Ingredients : 1/2 cup packed brown sugar; 1/2 cup ketchup; 1 1/2 pounds lean ground beef; 3/4 cup milk; 2 eggs; 1 1/2 teaspoons salt; 1/4 teaspoon ground black pepper; 1 small onion, chopped; 1/4 teaspoon ground ginger; 3/4 cup finely crushed saltine cracker crumbs \\n Instructions : Preheat oven to 350 degrees F (175 degrees C). Lightly grease a 5x9 inch loaf pan.\\nPress the brown sugar in the bottom of the prepared loaf pan and spread the ketchup over the sugar.\\nIn a mixing bowl, mix thoroughly all remaining ingredients and shape into a loaf. Place on top of the ketchup.\\nBake in preheated oven for 1 hour or until juices are clear.\\n'"
      ]
     },
     "execution_count": 36,
     "metadata": {},
     "output_type": "execute_result"
    }
   ],
   "source": [
    "recipes['combined_text'][2]"
   ]
  },
  {
   "cell_type": "markdown",
   "id": "01fc4a47",
   "metadata": {},
   "source": [
    "### Vectorization"
   ]
  },
  {
   "cell_type": "code",
   "execution_count": 15,
   "id": "1292b3f9",
   "metadata": {
    "ExecuteTime": {
     "end_time": "2024-03-19T23:23:17.791057Z",
     "start_time": "2024-03-19T23:23:15.707392Z"
    }
   },
   "outputs": [],
   "source": [
    "# TF-IDF Vectorization of Title + Ingredients\n",
    "tfidf_vectorizer_combined = TfidfVectorizer()\n",
    "tfidf_matrix_combined = tfidf_vectorizer_combined.fit_transform(recipes['title_ingredients'])\n",
    "\n",
    "# TF-IDF Vectorization of Title\n",
    "tfidf_matrix_title = tfidf_vectorizer_combined.transform(recipes['cleaned_title'])\n",
    "\n",
    "# TF-IDF Vectorization of Ingredients\n",
    "tfidf_matrix_ingredients = tfidf_vectorizer_combined.transform(recipes['cleaned_ingredients'])"
   ]
  },
  {
   "cell_type": "code",
   "execution_count": 16,
   "id": "8e9f30ff",
   "metadata": {
    "ExecuteTime": {
     "end_time": "2024-03-19T23:23:23.739743Z",
     "start_time": "2024-03-19T23:23:22.022014Z"
    }
   },
   "outputs": [],
   "source": [
    "# Create a list of the combined text for all recipes\n",
    "cooking_instructions = recipes['combined_text'].tolist()\n",
    "\n",
    "# Load a pre-trained model\n",
    "model = SentenceTransformer('all-MiniLM-L6-v2')"
   ]
  },
  {
   "cell_type": "code",
   "execution_count": 17,
   "id": "303b87a6",
   "metadata": {
    "ExecuteTime": {
     "end_time": "2024-03-19T23:29:59.004085Z",
     "start_time": "2024-03-19T23:23:23.741450Z"
    }
   },
   "outputs": [
    {
     "data": {
      "application/vnd.jupyter.widget-view+json": {
       "model_id": "eb1d397ff99b4279a4e5776258304ad5",
       "version_major": 2,
       "version_minor": 0
      },
      "text/plain": [
       "Batches:   0%|          | 0/1945 [00:00<?, ?it/s]"
      ]
     },
     "metadata": {},
     "output_type": "display_data"
    }
   ],
   "source": [
    "# Generate embeddings\n",
    "instruction_embeddings = model.encode(cooking_instructions, batch_size=64, show_progress_bar=True)"
   ]
  },
  {
   "cell_type": "markdown",
   "id": "a24daaa8",
   "metadata": {},
   "source": [
    "### Recommender function"
   ]
  },
  {
   "cell_type": "code",
   "execution_count": 88,
   "id": "860f0053",
   "metadata": {
    "ExecuteTime": {
     "end_time": "2024-03-20T04:34:09.190100Z",
     "start_time": "2024-03-20T04:34:09.179799Z"
    }
   },
   "outputs": [],
   "source": [
    "# Function to recommend recipes based on user input\n",
    "def recommend_recipes(query):\n",
    "    print(query)\n",
    "    \n",
    "    # Extract Time\n",
    "    query_cooking_time = extract_cooking_time(query)\n",
    "    \n",
    "    # Process the query the same way as your dataset features\n",
    "    query_processed = clean_text(query)\n",
    "    print(query_processed)\n",
    "    \n",
    "    # Transform the query to match the dataset's feature space\n",
    "    query_tfidf = tfidf_vectorizer_combined.transform([query_processed])\n",
    "    query_embedding = model.encode([query])\n",
    "    \n",
    "    # Calculate cosine similarity between query and dataset\n",
    "    cosine_sim_combined = cosine_similarity(query_tfidf, tfidf_matrix_combined).flatten()\n",
    "    cosine_sim_title = cosine_similarity(query_tfidf, tfidf_matrix_title).flatten()\n",
    "    cosine_sim_ingredients = cosine_similarity(query_tfidf, tfidf_matrix_ingredients).flatten()\n",
    "    cosine_sim_instructions = cosine_similarity(query_embedding, instruction_embeddings).flatten()\n",
    "    \n",
    "    # Save Scores in DataFrame\n",
    "    recipes['cos_sim_combined'] = cosine_sim_combined\n",
    "    recipes['cos_sim_title'] = cosine_sim_title\n",
    "    recipes['cos_sim_ingredients'] = cosine_sim_ingredients\n",
    "    recipes['cos_sim_instructions'] = cosine_sim_instructions\n",
    "    recipes['query_cooking_time'] = query_cooking_time\n",
    "    recipes['aggregate_score'] = 0.25 * recipes['cos_sim_title'] + 0.35 * recipes[\n",
    "    'cos_sim_ingredients'] + 0.4 * recipes['cos_sim_instructions']\n",
    "    \n",
    "    filter_cols = ['index','title',\n",
    "    'ingredients', \n",
    "    'instructions', \n",
    "    'cos_sim_title',\n",
    "    'cos_sim_ingredients',\n",
    "    'cos_sim_instructions',\n",
    "    'aggregate_score',\n",
    "    'query_cooking_time',\n",
    "    'cooking_time_mins']\n",
    "    \n",
    "    return recipes[filter_cols]"
   ]
  },
  {
   "cell_type": "code",
   "execution_count": 339,
   "id": "af99ecc6",
   "metadata": {
    "ExecuteTime": {
     "end_time": "2024-03-20T06:32:26.158912Z",
     "start_time": "2024-03-20T06:32:26.145892Z"
    }
   },
   "outputs": [],
   "source": [
    "# Test Queries\n",
    "test_queries_df = pd.read_csv('test_queries_v1.csv')"
   ]
  },
  {
   "cell_type": "code",
   "execution_count": 379,
   "id": "8f60cc7c",
   "metadata": {
    "ExecuteTime": {
     "end_time": "2024-03-20T15:31:39.698096Z",
     "start_time": "2024-03-20T15:31:39.431247Z"
    }
   },
   "outputs": [
    {
     "name": "stdout",
     "output_type": "stream",
     "text": [
      "sweet made of coconut and bananas and ready in 30 minutes\n",
      "sweet made coconut banana ready minute\n"
     ]
    }
   ],
   "source": [
    "# Example User Query\n",
    "user_query = test_queries_df['User_Queries'].values[5]\n",
    "recommendations = recommend_recipes(user_query)\n",
    "\n",
    "# Sort Recommendations by Aggregate Scores and Time\n",
    "recommendations = recommendations.sort_values(by = ['aggregate_score', \n",
    "                                                    'cooking_time_mins'], ascending=[False, True])\n",
    "\n",
    "# Sort Rrecommendations by Aggregate Scores and Time after applying time filter\n",
    "recommendations_time = recommendations[\n",
    "    recommendations['cooking_time_mins']<=recommendations['query_cooking_time']].sort_values(\n",
    "    by = ['aggregate_score', 'cooking_time_mins'], \n",
    "    ascending=[False, True])"
   ]
  },
  {
   "cell_type": "code",
   "execution_count": 380,
   "id": "d886536a",
   "metadata": {
    "ExecuteTime": {
     "end_time": "2024-03-20T15:31:40.229277Z",
     "start_time": "2024-03-20T15:31:40.215877Z"
    }
   },
   "outputs": [
    {
     "data": {
      "text/html": [
       "<div>\n",
       "<style scoped>\n",
       "    .dataframe tbody tr th:only-of-type {\n",
       "        vertical-align: middle;\n",
       "    }\n",
       "\n",
       "    .dataframe tbody tr th {\n",
       "        vertical-align: top;\n",
       "    }\n",
       "\n",
       "    .dataframe thead th {\n",
       "        text-align: right;\n",
       "    }\n",
       "</style>\n",
       "<table border=\"1\" class=\"dataframe\">\n",
       "  <thead>\n",
       "    <tr style=\"text-align: right;\">\n",
       "      <th></th>\n",
       "      <th>index</th>\n",
       "      <th>title</th>\n",
       "      <th>ingredients</th>\n",
       "      <th>instructions</th>\n",
       "      <th>cos_sim_title</th>\n",
       "      <th>cos_sim_ingredients</th>\n",
       "      <th>cos_sim_instructions</th>\n",
       "      <th>aggregate_score</th>\n",
       "      <th>query_cooking_time</th>\n",
       "      <th>cooking_time_mins</th>\n",
       "    </tr>\n",
       "  </thead>\n",
       "  <tbody>\n",
       "    <tr>\n",
       "      <th>11533</th>\n",
       "      <td>9sqp0u5GYXpP9W4DKtuRd9U3t2VXO..</td>\n",
       "      <td>Banana Nut Coconut Cake</td>\n",
       "      <td>[Banana Nut Coconut Cake:, 1 1/2 cups white su...</td>\n",
       "      <td>Preheat oven to 350 degrees F (175 degrees C)....</td>\n",
       "      <td>0.337590</td>\n",
       "      <td>0.305847</td>\n",
       "      <td>0.607319</td>\n",
       "      <td>0.434371</td>\n",
       "      <td>30</td>\n",
       "      <td>45.0</td>\n",
       "    </tr>\n",
       "    <tr>\n",
       "      <th>84079</th>\n",
       "      <td>IHBeJ2hTe7ukVGw9jQi9pKOg9FlUPPe</td>\n",
       "      <td>Sweet Potato Toast with Almond Butter, Banana ...</td>\n",
       "      <td>[2 medium sweet potatoes (about 1 pound total)...</td>\n",
       "      <td>Preheat the oven to 450 degrees F.\\nSlice off ...</td>\n",
       "      <td>0.326365</td>\n",
       "      <td>0.325233</td>\n",
       "      <td>0.584873</td>\n",
       "      <td>0.429372</td>\n",
       "      <td>30</td>\n",
       "      <td>15.0</td>\n",
       "    </tr>\n",
       "    <tr>\n",
       "      <th>89139</th>\n",
       "      <td>sqfFCr5lc3M64ZJnaUAs0luqacdzCZi</td>\n",
       "      <td>Banana Coconut Cake</td>\n",
       "      <td>[7 ounces unsalted butter, 1 1/2 cups granulat...</td>\n",
       "      <td>Cake:\\nPreheat the oven to 350 degrees. Butter...</td>\n",
       "      <td>0.400227</td>\n",
       "      <td>0.222916</td>\n",
       "      <td>0.616075</td>\n",
       "      <td>0.424507</td>\n",
       "      <td>30</td>\n",
       "      <td>30.0</td>\n",
       "    </tr>\n",
       "    <tr>\n",
       "      <th>115296</th>\n",
       "      <td>ZQRMw5WR5OjxsruRxWYgFd0y2xFWUgK</td>\n",
       "      <td>Banana and Coconut Shake</td>\n",
       "      <td>[1 cup crushed ice, 3 frozen ripe bananas, 1/2...</td>\n",
       "      <td>Add the ice and the frozen bananas to a blende...</td>\n",
       "      <td>0.310649</td>\n",
       "      <td>0.257151</td>\n",
       "      <td>0.633458</td>\n",
       "      <td>0.421049</td>\n",
       "      <td>30</td>\n",
       "      <td>NaN</td>\n",
       "    </tr>\n",
       "    <tr>\n",
       "      <th>114381</th>\n",
       "      <td>oko9oA6G6u9CzuprUGGN4O5ivB7bfaa</td>\n",
       "      <td>Coconut Banana Pudding</td>\n",
       "      <td>[5 ripe bananas, 1/2 cup plus 2 tablespoons ag...</td>\n",
       "      <td>Special equipment: four 10-ounce ramekins\\nIn ...</td>\n",
       "      <td>0.369313</td>\n",
       "      <td>0.233918</td>\n",
       "      <td>0.605007</td>\n",
       "      <td>0.416202</td>\n",
       "      <td>30</td>\n",
       "      <td>130.0</td>\n",
       "    </tr>\n",
       "  </tbody>\n",
       "</table>\n",
       "</div>"
      ],
      "text/plain": [
       "                                  index  \\\n",
       "11533   9sqp0u5GYXpP9W4DKtuRd9U3t2VXO..   \n",
       "84079   IHBeJ2hTe7ukVGw9jQi9pKOg9FlUPPe   \n",
       "89139   sqfFCr5lc3M64ZJnaUAs0luqacdzCZi   \n",
       "115296  ZQRMw5WR5OjxsruRxWYgFd0y2xFWUgK   \n",
       "114381  oko9oA6G6u9CzuprUGGN4O5ivB7bfaa   \n",
       "\n",
       "                                                    title  \\\n",
       "11533                             Banana Nut Coconut Cake   \n",
       "84079   Sweet Potato Toast with Almond Butter, Banana ...   \n",
       "89139                                 Banana Coconut Cake   \n",
       "115296                           Banana and Coconut Shake   \n",
       "114381                             Coconut Banana Pudding   \n",
       "\n",
       "                                              ingredients  \\\n",
       "11533   [Banana Nut Coconut Cake:, 1 1/2 cups white su...   \n",
       "84079   [2 medium sweet potatoes (about 1 pound total)...   \n",
       "89139   [7 ounces unsalted butter, 1 1/2 cups granulat...   \n",
       "115296  [1 cup crushed ice, 3 frozen ripe bananas, 1/2...   \n",
       "114381  [5 ripe bananas, 1/2 cup plus 2 tablespoons ag...   \n",
       "\n",
       "                                             instructions  cos_sim_title  \\\n",
       "11533   Preheat oven to 350 degrees F (175 degrees C)....       0.337590   \n",
       "84079   Preheat the oven to 450 degrees F.\\nSlice off ...       0.326365   \n",
       "89139   Cake:\\nPreheat the oven to 350 degrees. Butter...       0.400227   \n",
       "115296  Add the ice and the frozen bananas to a blende...       0.310649   \n",
       "114381  Special equipment: four 10-ounce ramekins\\nIn ...       0.369313   \n",
       "\n",
       "        cos_sim_ingredients  cos_sim_instructions  aggregate_score  \\\n",
       "11533              0.305847              0.607319         0.434371   \n",
       "84079              0.325233              0.584873         0.429372   \n",
       "89139              0.222916              0.616075         0.424507   \n",
       "115296             0.257151              0.633458         0.421049   \n",
       "114381             0.233918              0.605007         0.416202   \n",
       "\n",
       "        query_cooking_time  cooking_time_mins  \n",
       "11533                   30               45.0  \n",
       "84079                   30               15.0  \n",
       "89139                   30               30.0  \n",
       "115296                  30                NaN  \n",
       "114381                  30              130.0  "
      ]
     },
     "execution_count": 380,
     "metadata": {},
     "output_type": "execute_result"
    }
   ],
   "source": [
    "recommendations.head(5)"
   ]
  },
  {
   "cell_type": "code",
   "execution_count": null,
   "id": "19ddb5bf",
   "metadata": {},
   "outputs": [],
   "source": [
    "recommendations"
   ]
  },
  {
   "cell_type": "code",
   "execution_count": 375,
   "id": "4711b2f6",
   "metadata": {
    "ExecuteTime": {
     "end_time": "2024-03-20T15:30:17.502106Z",
     "start_time": "2024-03-20T15:30:17.495950Z"
    }
   },
   "outputs": [
    {
     "data": {
      "text/plain": [
       "'Place the chicken, butter, soup, and onion in a slow cooker, and fill with enough water to cover.\\nCover, and cook for 5 to 6 hours on High. About 30 minutes before serving, place the torn biscuit dough in the slow cooker. Cook until the dough is no longer raw in the center.\\n'"
      ]
     },
     "execution_count": 375,
     "metadata": {},
     "output_type": "execute_result"
    }
   ],
   "source": [
    "recommendations['instructions'][0]"
   ]
  },
  {
   "cell_type": "code",
   "execution_count": 354,
   "id": "64cb991d",
   "metadata": {
    "ExecuteTime": {
     "end_time": "2024-03-20T15:12:16.921281Z",
     "start_time": "2024-03-20T15:12:16.914490Z"
    }
   },
   "outputs": [
    {
     "data": {
      "text/html": [
       "<div>\n",
       "<style scoped>\n",
       "    .dataframe tbody tr th:only-of-type {\n",
       "        vertical-align: middle;\n",
       "    }\n",
       "\n",
       "    .dataframe tbody tr th {\n",
       "        vertical-align: top;\n",
       "    }\n",
       "\n",
       "    .dataframe thead th {\n",
       "        text-align: right;\n",
       "    }\n",
       "</style>\n",
       "<table border=\"1\" class=\"dataframe\">\n",
       "  <thead>\n",
       "    <tr style=\"text-align: right;\">\n",
       "      <th></th>\n",
       "      <th>index</th>\n",
       "      <th>title</th>\n",
       "      <th>ingredients</th>\n",
       "      <th>instructions</th>\n",
       "      <th>cos_sim_title</th>\n",
       "      <th>cos_sim_ingredients</th>\n",
       "      <th>cos_sim_instructions</th>\n",
       "      <th>aggregate_score</th>\n",
       "      <th>query_cooking_time</th>\n",
       "      <th>cooking_time_mins</th>\n",
       "    </tr>\n",
       "  </thead>\n",
       "  <tbody>\n",
       "  </tbody>\n",
       "</table>\n",
       "</div>"
      ],
      "text/plain": [
       "Empty DataFrame\n",
       "Columns: [index, title, ingredients, instructions, cos_sim_title, cos_sim_ingredients, cos_sim_instructions, aggregate_score, query_cooking_time, cooking_time_mins]\n",
       "Index: []"
      ]
     },
     "execution_count": 354,
     "metadata": {},
     "output_type": "execute_result"
    }
   ],
   "source": [
    "recommendations_time.head(5)"
   ]
  },
  {
   "cell_type": "markdown",
   "id": "754d79b5",
   "metadata": {},
   "source": [
    "### Model Evaluation"
   ]
  },
  {
   "cell_type": "code",
   "execution_count": 340,
   "id": "259360f6",
   "metadata": {
    "ExecuteTime": {
     "end_time": "2024-03-20T06:32:39.469519Z",
     "start_time": "2024-03-20T06:32:39.458612Z"
    }
   },
   "outputs": [],
   "source": [
    "def calculate_precision_recall(recommended_recipes, relevant_recipes):\n",
    "    # Convert lists to sets for easier manipulation\n",
    "    recommended_recipes_set = set(test_queries_df['predicted_index'][1:31])\n",
    "    relevant_recipes_set = set(test_queries_df['index'][1:31])\n",
    "    \n",
    "    # Calculate the number of relevant items that are recommended\n",
    "    true_positives = len(recommended_recipes_set.intersection(relevant_recipes_set))\n",
    "    \n",
    "    # Calculate precision and recall\n",
    "    precision = true_positives / len(recommended_recipes_set) if recommended_recipes_set else 0\n",
    "    recall = true_positives / len(relevant_recipes_set) if relevant_recipes_set else 0\n",
    "    \n",
    "    return precision, recall"
   ]
  },
  {
   "cell_type": "code",
   "execution_count": 341,
   "id": "e3edef53",
   "metadata": {
    "ExecuteTime": {
     "end_time": "2024-03-20T06:32:40.214808Z",
     "start_time": "2024-03-20T06:32:40.208731Z"
    }
   },
   "outputs": [
    {
     "name": "stdout",
     "output_type": "stream",
     "text": [
      "Precision: 0.7333333333333333\n",
      "Recall: 0.7333333333333333\n"
     ]
    }
   ],
   "source": [
    "recommended_recipes = ['Recipe A', 'Recipe B', 'Recipe C']  # Recipes recommended by your system\n",
    "relevant_recipes = ['Recipe A', 'Recipe D', 'Recipe E']  # Recipes that are known to be relevant\n",
    "precision, recall = calculate_precision_recall(recommended_recipes, relevant_recipes)\n",
    "print(f\"Precision: {precision}\\nRecall: {recall}\")"
   ]
  },
  {
   "cell_type": "code",
   "execution_count": null,
   "id": "141cd1db",
   "metadata": {},
   "outputs": [],
   "source": []
  }
 ],
 "metadata": {
  "kernelspec": {
   "display_name": "Python 3 (ipykernel)",
   "language": "python",
   "name": "python3"
  },
  "language_info": {
   "codemirror_mode": {
    "name": "ipython",
    "version": 3
   },
   "file_extension": ".py",
   "mimetype": "text/x-python",
   "name": "python",
   "nbconvert_exporter": "python",
   "pygments_lexer": "ipython3",
   "version": "3.11.5"
  }
 },
 "nbformat": 4,
 "nbformat_minor": 5
}
